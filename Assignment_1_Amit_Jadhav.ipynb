{
 "cells": [
  {
   "cell_type": "raw",
   "id": "9cdd31c0",
   "metadata": {},
   "source": [
    "1. In the below elements which of them are values or an expression? eg:- values can be integer or string and expressions will be mathematical operators.\n",
    "* \n",
    "'hello'\n",
    "-87.8\n",
    "- \n",
    "/ \n",
    "\n",
    "\n",
    "6 \n",
    "\n",
    "2. What is the difference between string and variable?\n",
    "\n",
    "3. Describe three different data types.\n",
    "\n",
    "4. What is an expression made up of? What do all expressions do?\n",
    "5. This assignment statements, like spam = 10. What is the difference between an expression and a statement?\n",
    "6. After running the following code, what does the variable bacon contain?\n",
    "bacon = 22\n",
    "bacon + 1\n",
    "\n",
    "7. What should the values of the following two terms be?\n",
    "'spam' + 'spamspam'\n",
    "'spam' * 3\n",
    "\n",
    "8. Why is eggs a valid variable name while 100 is invalid?\n",
    "9. What three functions can be used to get the integer, floating-point number, or string version of a value?\n",
    "10. Why does this expression cause an error? How can you fix it?\n",
    "'I have eaten ' + 99 + ' burritos.'\n"
   ]
  },
  {
   "cell_type": "markdown",
   "id": "7970aab6",
   "metadata": {},
   "source": [
    "# Answers:"
   ]
  },
  {
   "cell_type": "markdown",
   "id": "dfa64e7f",
   "metadata": {},
   "source": [
    "1) In the below elements which of them are values or an expression? eg:- values can be integer or string and expressions will be mathematical operators.\n",
    "'hello'\n",
    "-87.8\n",
    "\n",
    "/\n",
    "6\n",
    "\n",
    "Values: 'hello', -87.8, 6\n",
    "Expression: *, -, /\n",
    "\n",
    "2) What is the difference between string and variable?\n",
    "A variable is a placeholder for a value, while a string is a type of value that represents a sequence of characters.\n",
    "\n",
    "3) Describe three different data types.\n",
    "\n",
    "Integer: a whole number without a decimal point.\n",
    "String: a sequence of characters that represent text.\n",
    "Boolean: a value that can be either True or False.\n",
    "\n",
    "4)What is an expression made up of? What do all expressions do?\n",
    "\n",
    "An expression is made up of values, variables, and operators, and it evaluates to a single value. All expressions in Python have a value, which can be a number, string, or Boolean value.\n",
    "\n",
    "5) This assignment statements, like spam = 10. What is the difference between an expression and a statement?\n",
    "An expression evaluates to a value, while a statement performs an action. An assignment statement, such as spam = 10, assigns the value 10 to the variable spam. It is a statement, not an expression, because it does not evaluate to a value.\n",
    "\n",
    "6) After running the following code, what does the variable bacon contain?\n",
    "bacon = 22\n",
    "bacon + 1\n",
    "\n",
    "The variable bacon contains the value 22, because the second line of code does not change the value of bacon. The expression \"bacon + 1\" evaluates to 23, but the result is not stored in any variable.\n",
    "\n",
    "7) What should the values of the following two terms be?\n",
    "'spam' + 'spamspam' = 'spamspamspam'\n",
    "'spam' * 3 = 'spamspamspam'\n",
    "\n",
    "8) Why is eggs a valid variable name while 100 is invalid?\n",
    "Variable names in Python cannot start with a number, so 100 is an invalid variable name. Eggs is a valid variable name because it starts with a letter.\n",
    "\n",
    "9) What three functions can be used to get the integer, floating-point number, or string version of a value?\n",
    "\n",
    "int() function can be used to get the integer version of a value.\n",
    "float() function can be used to get the floating-point number version of a value.\n",
    "str() function can be used to get the string version of a value.\n",
    "\n",
    "10) Why does this expression cause an error? How can you fix it?\n",
    "'I have eaten ' + 99 + ' burritos.'\n",
    "This expression causes an error because you cannot concatenate a string and an integer without converting the integer to a string first. To fix it, you can convert the integer to a string using the str() function:\n",
    "'I have eaten ' + str(99) + ' burritos.'"
   ]
  },
  {
   "cell_type": "code",
   "execution_count": null,
   "id": "fc227de8",
   "metadata": {},
   "outputs": [],
   "source": []
  }
 ],
 "metadata": {
  "kernelspec": {
   "display_name": "Python 3 (ipykernel)",
   "language": "python",
   "name": "python3"
  },
  "language_info": {
   "codemirror_mode": {
    "name": "ipython",
    "version": 3
   },
   "file_extension": ".py",
   "mimetype": "text/x-python",
   "name": "python",
   "nbconvert_exporter": "python",
   "pygments_lexer": "ipython3",
   "version": "3.9.12"
  }
 },
 "nbformat": 4,
 "nbformat_minor": 5
}
