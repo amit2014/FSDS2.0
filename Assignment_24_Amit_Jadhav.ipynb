{
 "cells": [
  {
   "cell_type": "markdown",
   "id": "b01b9b97",
   "metadata": {},
   "source": [
    "1. What is the relationship between def statements and lambda expressions ?\n",
    "2. What is the benefit of lambda?\n",
    "3. Compare and contrast map, filter, and reduce.\n",
    "4. What are function annotations, and how are they used?\n",
    "5. What are recursive functions, and how are they used?\n",
    "6. What are some general design guidelines for coding functions?\n",
    "7. Name three or more ways that functions can communicate results to a caller."
   ]
  },
  {
   "cell_type": "markdown",
   "id": "3db65349",
   "metadata": {},
   "source": [
    "# Answers"
   ]
  },
  {
   "cell_type": "markdown",
   "id": "d1b8a32c",
   "metadata": {},
   "source": [
    "1) Both def statements and lambda expressions are used to define functions in Python. However, def statements are used to define named functions with a block of statements, while lambda expressions are used to define anonymous functions with a single expression.\n",
    "\n",
    "2) The main benefit of lambda is that it allows you to create small, anonymous functions that can be used as arguments to other functions. This makes it easy to write concise, expressive code that is easy to read and understand.\n",
    "\n",
    "3) Map, filter, and reduce are all built-in functions in Python that can be used to transform and manipulate data. Map applies a function to each element of an iterable and returns an iterator object that generates the transformed values. Filter applies a function to each element of an iterable and returns an iterator object that generates only the values for which the function returns True. Reduce applies a function to a sequence of values and returns a single value that represents the cumulative result of applying the function to each pair of values in the sequence.\n",
    "\n",
    "4) Function annotations are a feature of Python that allow you to add metadata to function arguments and return values. Annotations are specified using the syntax \"arg: type\" and \"-> return_type\" after the argument list. They are primarily used to provide type hints to help with static type checking and code analysis.\n",
    "\n",
    "5) Recursive functions are functions that call themselves, either directly or indirectly. They are used to solve problems that can be broken down into smaller subproblems that are similar in structure to the original problem. Recursive functions are often used in programming for tree traversal, sorting, and searching algorithms.\n",
    "\n",
    "6) Some general design guidelines for coding functions include keeping them short and focused on a single task, giving them descriptive names that accurately describe their purpose, using function arguments and return values effectively to communicate with the caller, and avoiding global variables and side effects.\n",
    "\n",
    "7) Functions can communicate results to a caller in several ways, including returning a value with the return statement, modifying mutable objects passed as arguments, raising an exception to signal an error or unexpected behavior, printing output to the console, and writing results to a file or database."
   ]
  },
  {
   "cell_type": "raw",
   "id": "dc227fe6",
   "metadata": {},
   "source": []
  }
 ],
 "metadata": {
  "kernelspec": {
   "display_name": "Python 3 (ipykernel)",
   "language": "python",
   "name": "python3"
  },
  "language_info": {
   "codemirror_mode": {
    "name": "ipython",
    "version": 3
   },
   "file_extension": ".py",
   "mimetype": "text/x-python",
   "name": "python",
   "nbconvert_exporter": "python",
   "pygments_lexer": "ipython3",
   "version": "3.9.12"
  }
 },
 "nbformat": 4,
 "nbformat_minor": 5
}
