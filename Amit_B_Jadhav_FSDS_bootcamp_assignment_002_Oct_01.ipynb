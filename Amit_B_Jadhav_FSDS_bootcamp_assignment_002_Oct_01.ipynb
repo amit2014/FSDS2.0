{
 "cells": [
  {
   "cell_type": "markdown",
   "id": "93e58797",
   "metadata": {},
   "source": [
    "1. What is indentation error? Why indentation is important? Give one simple example?"
   ]
  },
  {
   "cell_type": "markdown",
   "id": "80b3ae62",
   "metadata": {},
   "source": [
    "Answer: Indentation error is the absence of tabs and or whitespaces between lines of code. Without proper indentation, your code will not run and end up seeing error as indentationerror: unexpected unindent. \n"
   ]
  },
  {
   "cell_type": "code",
   "execution_count": 1,
   "id": "6ff6939a",
   "metadata": {},
   "outputs": [
    {
     "ename": "IndentationError",
     "evalue": "unexpected indent (3048064944.py, line 3)",
     "output_type": "error",
     "traceback": [
      "\u001b[1;36m  Input \u001b[1;32mIn [1]\u001b[1;36m\u001b[0m\n\u001b[1;33m    print()\u001b[0m\n\u001b[1;37m    ^\u001b[0m\n\u001b[1;31mIndentationError\u001b[0m\u001b[1;31m:\u001b[0m unexpected indent\n"
     ]
    }
   ],
   "source": [
    " for i in range(0,10,2):\n",
    "    print(i, end=\" \")\n",
    "        print()"
   ]
  },
  {
   "cell_type": "markdown",
   "id": "dd54a1bf",
   "metadata": {},
   "source": [
    "2. Correct the following code and write the comment where you made the correction?"
   ]
  },
  {
   "cell_type": "code",
   "execution_count": 2,
   "id": "231ad08b",
   "metadata": {},
   "outputs": [
    {
     "name": "stdout",
     "output_type": "stream",
     "text": [
      "Hey friend, is class started?: [0-False/1-True]1\n",
      "Since class started...\n",
      "Lets concentrate\n"
     ]
    }
   ],
   "source": [
    "class_started = int(input(\"Hey friend, is class started?: [0-False/1-True]\")) #changed bool to int so it will be easier for user to give input\n",
    "\n",
    "class_started = bool(class_started) #data type conversion from int to bool\n",
    "\n",
    "if class_started:\n",
    "  print(\"Since class started...\")\n",
    "  print(\"Lets concentrate\")\n",
    "else:\n",
    "  print(\"Since class is not started...\")\n",
    "  print(\"let's revise\")    "
   ]
  },
  {
   "cell_type": "markdown",
   "id": "f781c3bc",
   "metadata": {},
   "source": [
    "3. Use if else condition to verify that dataype of input() method in python is always string."
   ]
  },
  {
   "cell_type": "code",
   "execution_count": 3,
   "id": "717d6e30",
   "metadata": {
    "scrolled": true
   },
   "outputs": [
    {
     "name": "stdout",
     "output_type": "stream",
     "text": [
      "amit\n",
      "The datatype of input() method is a string.\n"
     ]
    }
   ],
   "source": [
    "my_string = input()\n",
    "if type(my_string) == str:\n",
    "      print(\"The datatype of input() method is a string.\")\n",
    "else:\n",
    "      print(\"The datatype of input() method is not a string.\")"
   ]
  },
  {
   "cell_type": "markdown",
   "id": "2dd26b70",
   "metadata": {},
   "source": [
    "4. Take 3 variables and assign integer values to them. Find the largest variable, by only using the if and else conditions."
   ]
  },
  {
   "cell_type": "code",
   "execution_count": 4,
   "id": "ac21bc7c",
   "metadata": {},
   "outputs": [
    {
     "name": "stdout",
     "output_type": "stream",
     "text": [
      "48\n",
      "21\n",
      "34\n",
      "largest number is  48\n"
     ]
    }
   ],
   "source": [
    "num1 = int(input())\n",
    "num2 = int(input())\n",
    "num3 = int(input())\n",
    "\n",
    "if (num1 > num2 and num1 > num3):\n",
    "   largest = num1\n",
    "elif (num2 > num1 and num2 > num3):\n",
    "   largest = num2\n",
    "else: \n",
    "   largest = num3\n",
    "print(\"largest number is \", largest)"
   ]
  },
  {
   "cell_type": "markdown",
   "id": "eb100340",
   "metadata": {},
   "source": [
    "5. What would be the solution?\n",
    "\n",
    "True\n",
    "\n",
    "False\n",
    "\n",
    "a = 6\n",
    "b = 10\n",
    "print( not ( not a == 10 or not b == 10) )"
   ]
  },
  {
   "cell_type": "markdown",
   "id": "2ecdcb20",
   "metadata": {},
   "source": [
    "OUTPUT Answer: False\n",
    "\n",
    "(not (not a == 10 or not b == 10))\n",
    "\n",
    "*   b == 10 => True\n",
    "*   not b == 10 => False\n",
    "*   a == 10 => False\n",
    "*   not a == 10 => True\n",
    "*   True or False => True\n",
    "*   not(True) => False"
   ]
  },
  {
   "cell_type": "markdown",
   "id": "020ce8e9",
   "metadata": {},
   "source": [
    "6. Find the answer as well as find out the reason behind the result? -\n",
    "\n",
    "case 1:\n",
    "\n",
    "  A = 5.0\n",
    "  B = 10/2\n",
    "  print(A is B)"
   ]
  },
  {
   "cell_type": "code",
   "execution_count": 5,
   "id": "4b541674",
   "metadata": {},
   "outputs": [
    {
     "name": "stdout",
     "output_type": "stream",
     "text": [
      "False\n",
      "5.0 <class 'float'> 2414370376976\n",
      "5.0 <class 'float'> 2414370110352\n",
      " Stored in seperate memmory location\n"
     ]
    }
   ],
   "source": [
    "A = 5.0\n",
    "B = 10/2\n",
    "print(A is B)\n",
    "print(A, type(A), id(A))\n",
    "print(B, type(B), id(B))\n",
    "if id(A) != id(B):\n",
    "    print(\" Stored in seperate memmory location\")"
   ]
  },
  {
   "cell_type": "markdown",
   "id": "ff225131",
   "metadata": {},
   "source": [
    "case 2:\n",
    "\n",
    "  A = 5.0\n",
    "  B = int(10/2)\n",
    "  print(A is B)"
   ]
  },
  {
   "cell_type": "code",
   "execution_count": 6,
   "id": "6b8773ee",
   "metadata": {},
   "outputs": [
    {
     "name": "stdout",
     "output_type": "stream",
     "text": [
      "False\n",
      "5.0 <class 'float'> 2414370376144\n",
      "5 <class 'int'> 2414287677872\n",
      " Different data types and memmory location\n"
     ]
    }
   ],
   "source": [
    "A = 5.0\n",
    "B = int(10/2)\n",
    "print(A is B)\n",
    "print(A, type(A), id(A))\n",
    "print(B, type(B), id(B))\n",
    "if type(A) != type(B) and id(A) != id(B):\n",
    "    print(\" Different data types and memmory location\")"
   ]
  },
  {
   "cell_type": "markdown",
   "id": "1148ffb4",
   "metadata": {},
   "source": [
    "case 3:\n",
    "\n",
    "  A = 5.0\n",
    "  B = float(10/2)\n",
    "  print(A is B)"
   ]
  },
  {
   "cell_type": "code",
   "execution_count": 7,
   "id": "5295fccb",
   "metadata": {},
   "outputs": [
    {
     "name": "stdout",
     "output_type": "stream",
     "text": [
      "False\n",
      "5.0 <class 'float'> 2414370376976\n",
      "5.0 <class 'float'> 2414370376144\n",
      " Different memmory location\n"
     ]
    }
   ],
   "source": [
    "A = 5.0\n",
    "B = float(10/2)\n",
    "print(A is B)\n",
    "print(A, type(A), id(A))\n",
    "print(B, type(B), id(B))\n",
    "if id(A) != id(B):\n",
    "    print(\" Different memmory location\")"
   ]
  },
  {
   "cell_type": "markdown",
   "id": "78aae350",
   "metadata": {},
   "source": [
    "### Try to understand the following examples and answer the question based on it - \n",
    "    \n",
    "**Arithmatic Operators**\n",
    "\n",
    "|Operation|Meaning|\n",
    "|:-:|:-:|\n",
    "| **+** |addition|\n",
    "| **-** |subtraction|\n",
    "| **\\*** |multiplication|\n",
    "| **/** |true division|\n",
    "| **//** |integer division|\n",
    "| **%** |the modulo operator|\n",
    "\n",
    "\n",
    "Here `+`, `-`, `*`, `/` are regular arithmatic operators. Lets look at the `//` and `%` operators\n",
    "\n",
    "Usecase or examples - \n",
    "    \n",
    "```python\n",
    "var_a = 5\n",
    "var_b = 25\n",
    "integer_division = var_b // var_a\n",
    "print(f\"integer division: {var_b}/{var_a}={integer_division}\")\n",
    "```\n",
    "\n",
    "OUTPUT: integer division: 25/5=5\n",
    "\n",
    "```python\n",
    "var_a = 3\n",
    "var_b = 25\n",
    "integer_division = var_b // var_a\n",
    "print(f\"integer division: {var_b}/{var_a}={integer_division}\")\n",
    "```\n",
    "\n",
    "OUTPUT: integer division: 25/3=8\n",
    "\n",
    "```python\n",
    "var_a = 5\n",
    "var_b = 25\n",
    "remainder = var_b % var_a\n",
    "print(f\"remainder: {var_b}/{var_a} is {remainder}\")\n",
    "```\n",
    "\n",
    "OUTPUT: remainder: 25/5 is 0\n",
    "\n",
    "```python\n",
    "var_a = 3\n",
    "var_b = 25\n",
    "remainder = var_b % var_a\n",
    "print(f\"remainder: {var_b}/{var_a} is {remainder}\")\n",
    "```\n",
    "\n",
    "OUTPUT: remainder: 25/3 is 1\n",
    "\n"
   ]
  },
  {
   "cell_type": "markdown",
   "id": "eef01a4d",
   "metadata": {},
   "source": [
    "# Answer below questions on the above theory -\n"
   ]
  },
  {
   "cell_type": "markdown",
   "id": "1f0d48c6",
   "metadata": {},
   "source": [
    "7. Write a program that asks the user to enter a number. You should print out a message to the user, either “That number is divisible by either 3 or 5”, or “That number is not divisible by either 3 or 5”. Be sure to consider the data type of the input you are taking in from the user. Use a single if/else block to solve this problem"
   ]
  },
  {
   "cell_type": "code",
   "execution_count": 9,
   "id": "e348947f",
   "metadata": {},
   "outputs": [
    {
     "name": "stdout",
     "output_type": "stream",
     "text": [
      "Enter your number : 15\n",
      "That number 15 is divisible by either 3 or 5\n"
     ]
    }
   ],
   "source": [
    "your_num = int( input(\"Enter your number : \"))\n",
    "if your_num % 3 ==0 or your_num % 5 ==0:\n",
    "    print(f\"That number {your_num} is divisible by either 3 or 5\")\n",
    "else:\n",
    "    print(f\"That number {your_num} is NOT divisible by either 3 or 5\")"
   ]
  },
  {
   "cell_type": "markdown",
   "id": "4fe95fef",
   "metadata": {},
   "source": [
    "8. Take user input for length and width. Then calculate the area of rectangle. Also print as per length and width whether its a square of rectangle."
   ]
  },
  {
   "cell_type": "code",
   "execution_count": 10,
   "id": "cffe6ec9",
   "metadata": {},
   "outputs": [
    {
     "name": "stdout",
     "output_type": "stream",
     "text": [
      "Enter the length : 22.33\n",
      "Enter the width : 22.33\n",
      "The area of squre with each side of length 22.33 is 498.62889999999993 \n"
     ]
    }
   ],
   "source": [
    "len = float( input(\"Enter the length : \"))\n",
    "wid = float( input(\"Enter the width : \"))\n",
    "rect_area = (len * wid)\n",
    "if len == wid :\n",
    "    print(f\"The area of squre with each side of length {len} is {rect_area} \")\n",
    "else:\n",
    "    print(f\"The area of rectangle with length {len} and width {wid} is {rect_area} \")"
   ]
  },
  {
   "cell_type": "markdown",
   "id": "7c91e86f",
   "metadata": {},
   "source": [
    "9. Take two variable radius_1 and radius_2 and calculate the area of circle_1 and circle_2. Also print which circle has large area. If area is equal then print area is equal."
   ]
  },
  {
   "cell_type": "code",
   "execution_count": 11,
   "id": "71d0990f",
   "metadata": {},
   "outputs": [
    {
     "name": "stdout",
     "output_type": "stream",
     "text": [
      "Enter the Radii of first circle: 21.89\n",
      "Enter the Radii of second circle: 15.67\n",
      "Area of First circle is 1504.600394 and it is larger than area of second circle  which is 771.023546 \n"
     ]
    }
   ],
   "source": [
    "radius_1 = float( input(\"Enter the Radii of first circle: \"))\n",
    "radius_2 = float( input(\"Enter the Radii of second circle: \"))\n",
    "\n",
    "ar_c1 = 3.14 * radius_1**2\n",
    "ar_c2 = 3.14 * radius_2**2\n",
    "\n",
    "if ar_c1 == ar_c2:\n",
    "  print(f\"Both circles have equal area {ar_c1}\")\n",
    "elif ar_c1>ar_c2:\n",
    "  print(f\"Area of First circle is {ar_c1} and it is larger than area of second circle  which is {ar_c2} \")\n",
    "else:\n",
    "  print(f\"Area of Second circle is {ar_c2} and it is larger than area of first circle which is {ar_c1} \")"
   ]
  },
  {
   "cell_type": "markdown",
   "id": "d2e0320a",
   "metadata": {},
   "source": [
    "10. Check whether a year is leap year or not. Use nested if...else to solve this problem. A leap year is exactly divisible by 4 except for century years (years ending with 00). The century year is a leap year only if it is perfectly divisible by 400."
   ]
  },
  {
   "cell_type": "code",
   "execution_count": 12,
   "id": "b557b2ae",
   "metadata": {},
   "outputs": [
    {
     "name": "stdout",
     "output_type": "stream",
     "text": [
      " Enter the year to check : 2400\n",
      " The entered year 2400 is a century Leap year\n"
     ]
    }
   ],
   "source": [
    "var = int(input (\" Enter the year to check : \"))\n",
    "\n",
    "if var % 100 == 0:\n",
    "  if var % 400 == 0 :\n",
    "    print(f\" The entered year {var} is a century Leap year\")\n",
    "  else:\n",
    "    print(f\" The entered year  {var} is a  century year but not a Leap year\")\n",
    "elif var % 4 ==0 :\n",
    "  print(f\" The entered year  {var} is a Leap year\")\n",
    "else:\n",
    "  print(f\" The entered year  {var} is a not a Leap year\")"
   ]
  },
  {
   "cell_type": "code",
   "execution_count": null,
   "id": "448decbe",
   "metadata": {},
   "outputs": [],
   "source": []
  }
 ],
 "metadata": {
  "kernelspec": {
   "display_name": "Python 3 (ipykernel)",
   "language": "python",
   "name": "python3"
  },
  "language_info": {
   "codemirror_mode": {
    "name": "ipython",
    "version": 3
   },
   "file_extension": ".py",
   "mimetype": "text/x-python",
   "name": "python",
   "nbconvert_exporter": "python",
   "pygments_lexer": "ipython3",
   "version": "3.9.12"
  }
 },
 "nbformat": 4,
 "nbformat_minor": 5
}
