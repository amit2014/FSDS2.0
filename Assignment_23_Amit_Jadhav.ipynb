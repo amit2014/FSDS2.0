{
 "cells": [
  {
   "cell_type": "raw",
   "id": "5720f3dd",
   "metadata": {},
   "source": [
    "1. What is the result of the code, and why?\n",
    ">>> def func(a, b=6, c=8):\n",
    "print(a, b, c)\n",
    ">>> func(1, 2)\n",
    "2. What is the result of this code, and why?\n",
    ">>> def func(a, b, c=5):\n",
    "print(a, b, c)\n",
    ">>> func(1, c=3, b=2)\n",
    "3. How about this code: what is its result, and why?\n",
    ">>> def func(a, *pargs):\n",
    "print(a, pargs)\n",
    ">>> func(1, 2, 3)\n",
    "4. What does this code print, and why?\n",
    ">>> def func(a, **kargs):\n",
    "print(a, kargs)\n",
    ">>> func(a=1, c=3, b=2)\n",
    "5. What gets printed by this, and explain?\n",
    ">>> def func(a, b, c=8, d=5): print(a, b, c, d)\n",
    ">>> func(1, *(5, 6))\n",
    "6. what is the result of this, and explain?\n",
    ">>> def func(a, b, c): a = 2; b[0] = 'x'; c['a'] = 'y'\n",
    ">>> l=1; m=[1]; n={'a':0}\n",
    ">>> func(l, m, n)\n",
    ">>> l, m, n"
   ]
  },
  {
   "cell_type": "markdown",
   "id": "ff894225",
   "metadata": {},
   "source": [
    "# Answers:"
   ]
  },
  {
   "cell_type": "markdown",
   "id": "953d8a12",
   "metadata": {},
   "source": [
    "1) The code will print: 1 2 8 because the function func() is called with arguments 1 and 2 for parameters a and b respectively. The default value for c is 8 which is printed since no argument was provided for c.\n",
    "\n",
    "2) The code will print: 1 2 3 because the function func() is called with arguments 1 for parameter a, 3 for parameter c, and 2 for parameter b. The order of the keyword arguments c=3 and b=2 doesn't matter because they are explicitly specified.\n",
    "\n",
    "3) The code will print: 1 (2, 3) because the function func() is called with arguments 1, 2, and 3. The *pargs parameter is a tuple that captures any additional positional arguments passed to the function.\n",
    "\n",
    "4) The code will print: 1 {'c': 3, 'b': 2} because the function func() is called with keyword arguments a=1, c=3, and b=2. The **kargs parameter is a dictionary that captures any additional keyword arguments passed to the function.\n",
    "\n",
    "5) The code will print: 1 5 6 5 because the function func() is called with arguments 1 for parameter a, 5 for parameter b, and 6 for parameter c. The *(5, 6) syntax unpacks the tuple (5, 6) and passes its values as separate arguments to the function.\n",
    "\n",
    "6) The function func() modifies the values of its parameters a, b, and c. The variables l, m, and n are assigned the values 1, [1], and {'a':0} respectively. When the function is called with func(l, m, n), a is assigned the value 2, b[0] is assigned the value 'x', and c['a'] is assigned the value 'y'. Therefore, after the function call, l is still 1, m is now ['x'], and n is now {'a': 'y'}."
   ]
  },
  {
   "cell_type": "code",
   "execution_count": null,
   "id": "c39414e1",
   "metadata": {},
   "outputs": [],
   "source": []
  }
 ],
 "metadata": {
  "kernelspec": {
   "display_name": "Python 3 (ipykernel)",
   "language": "python",
   "name": "python3"
  },
  "language_info": {
   "codemirror_mode": {
    "name": "ipython",
    "version": 3
   },
   "file_extension": ".py",
   "mimetype": "text/x-python",
   "name": "python",
   "nbconvert_exporter": "python",
   "pygments_lexer": "ipython3",
   "version": "3.9.12"
  }
 },
 "nbformat": 4,
 "nbformat_minor": 5
}
